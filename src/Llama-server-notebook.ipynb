{
 "cells": [
  {
   "cell_type": "code",
   "execution_count": 1,
   "id": "1eb255e2-35df-4f99-9319-e6217a94e48a",
   "metadata": {},
   "outputs": [],
   "source": [
    "from langchain_community.document_loaders import UnstructuredPDFLoader\n",
    "from langchain_community.document_loaders import OnlinePDFLoader"
   ]
  },
  {
   "cell_type": "code",
   "execution_count": 10,
   "id": "d22a80db-77be-4eea-af8d-0d3b956f56e9",
   "metadata": {},
   "outputs": [
    {
     "ename": "PDFInfoNotInstalledError",
     "evalue": "Unable to get page count. Is poppler installed and in PATH?",
     "output_type": "error",
     "traceback": [
      "\u001b[0;31m---------------------------------------------------------------------------\u001b[0m",
      "\u001b[0;31mFileNotFoundError\u001b[0m                         Traceback (most recent call last)",
      "File \u001b[0;32m/opt/anaconda3/lib/python3.11/site-packages/pdf2image/pdf2image.py:581\u001b[0m, in \u001b[0;36mpdfinfo_from_path\u001b[0;34m(pdf_path, userpw, ownerpw, poppler_path, rawdates, timeout, first_page, last_page)\u001b[0m\n\u001b[1;32m    580\u001b[0m     env[\u001b[38;5;124m\"\u001b[39m\u001b[38;5;124mLD_LIBRARY_PATH\u001b[39m\u001b[38;5;124m\"\u001b[39m] \u001b[38;5;241m=\u001b[39m poppler_path \u001b[38;5;241m+\u001b[39m \u001b[38;5;124m\"\u001b[39m\u001b[38;5;124m:\u001b[39m\u001b[38;5;124m\"\u001b[39m \u001b[38;5;241m+\u001b[39m env\u001b[38;5;241m.\u001b[39mget(\u001b[38;5;124m\"\u001b[39m\u001b[38;5;124mLD_LIBRARY_PATH\u001b[39m\u001b[38;5;124m\"\u001b[39m, \u001b[38;5;124m\"\u001b[39m\u001b[38;5;124m\"\u001b[39m)\n\u001b[0;32m--> 581\u001b[0m proc \u001b[38;5;241m=\u001b[39m Popen(command, env\u001b[38;5;241m=\u001b[39menv, stdout\u001b[38;5;241m=\u001b[39mPIPE, stderr\u001b[38;5;241m=\u001b[39mPIPE)\n\u001b[1;32m    583\u001b[0m \u001b[38;5;28;01mtry\u001b[39;00m:\n",
      "File \u001b[0;32m/opt/anaconda3/lib/python3.11/subprocess.py:1026\u001b[0m, in \u001b[0;36mPopen.__init__\u001b[0;34m(self, args, bufsize, executable, stdin, stdout, stderr, preexec_fn, close_fds, shell, cwd, env, universal_newlines, startupinfo, creationflags, restore_signals, start_new_session, pass_fds, user, group, extra_groups, encoding, errors, text, umask, pipesize, process_group)\u001b[0m\n\u001b[1;32m   1023\u001b[0m             \u001b[38;5;28mself\u001b[39m\u001b[38;5;241m.\u001b[39mstderr \u001b[38;5;241m=\u001b[39m io\u001b[38;5;241m.\u001b[39mTextIOWrapper(\u001b[38;5;28mself\u001b[39m\u001b[38;5;241m.\u001b[39mstderr,\n\u001b[1;32m   1024\u001b[0m                     encoding\u001b[38;5;241m=\u001b[39mencoding, errors\u001b[38;5;241m=\u001b[39merrors)\n\u001b[0;32m-> 1026\u001b[0m     \u001b[38;5;28mself\u001b[39m\u001b[38;5;241m.\u001b[39m_execute_child(args, executable, preexec_fn, close_fds,\n\u001b[1;32m   1027\u001b[0m                         pass_fds, cwd, env,\n\u001b[1;32m   1028\u001b[0m                         startupinfo, creationflags, shell,\n\u001b[1;32m   1029\u001b[0m                         p2cread, p2cwrite,\n\u001b[1;32m   1030\u001b[0m                         c2pread, c2pwrite,\n\u001b[1;32m   1031\u001b[0m                         errread, errwrite,\n\u001b[1;32m   1032\u001b[0m                         restore_signals,\n\u001b[1;32m   1033\u001b[0m                         gid, gids, uid, umask,\n\u001b[1;32m   1034\u001b[0m                         start_new_session, process_group)\n\u001b[1;32m   1035\u001b[0m \u001b[38;5;28;01mexcept\u001b[39;00m:\n\u001b[1;32m   1036\u001b[0m     \u001b[38;5;66;03m# Cleanup if the child failed starting.\u001b[39;00m\n",
      "File \u001b[0;32m/opt/anaconda3/lib/python3.11/subprocess.py:1950\u001b[0m, in \u001b[0;36mPopen._execute_child\u001b[0;34m(self, args, executable, preexec_fn, close_fds, pass_fds, cwd, env, startupinfo, creationflags, shell, p2cread, p2cwrite, c2pread, c2pwrite, errread, errwrite, restore_signals, gid, gids, uid, umask, start_new_session, process_group)\u001b[0m\n\u001b[1;32m   1949\u001b[0m         err_msg \u001b[38;5;241m=\u001b[39m os\u001b[38;5;241m.\u001b[39mstrerror(errno_num)\n\u001b[0;32m-> 1950\u001b[0m     \u001b[38;5;28;01mraise\u001b[39;00m child_exception_type(errno_num, err_msg, err_filename)\n\u001b[1;32m   1951\u001b[0m \u001b[38;5;28;01mraise\u001b[39;00m child_exception_type(err_msg)\n",
      "\u001b[0;31mFileNotFoundError\u001b[0m: [Errno 2] No such file or directory: 'pdfinfo'",
      "\nDuring handling of the above exception, another exception occurred:\n",
      "\u001b[0;31mPDFInfoNotInstalledError\u001b[0m                  Traceback (most recent call last)",
      "Cell \u001b[0;32mIn[10], line 6\u001b[0m\n\u001b[1;32m      4\u001b[0m \u001b[38;5;28;01mif\u001b[39;00m local_path:\n\u001b[1;32m      5\u001b[0m   loader \u001b[38;5;241m=\u001b[39m UnstructuredPDFLoader(file_path\u001b[38;5;241m=\u001b[39mlocal_path)\n\u001b[0;32m----> 6\u001b[0m   data \u001b[38;5;241m=\u001b[39m loader\u001b[38;5;241m.\u001b[39mload()\n\u001b[1;32m      7\u001b[0m \u001b[38;5;28;01melse\u001b[39;00m:\n\u001b[1;32m      8\u001b[0m   \u001b[38;5;28mprint\u001b[39m(\u001b[38;5;124m\"\u001b[39m\u001b[38;5;124mUpload a PDF file\u001b[39m\u001b[38;5;124m\"\u001b[39m)\n",
      "File \u001b[0;32m/opt/anaconda3/lib/python3.11/site-packages/langchain_core/document_loaders/base.py:29\u001b[0m, in \u001b[0;36mBaseLoader.load\u001b[0;34m(self)\u001b[0m\n\u001b[1;32m     27\u001b[0m \u001b[38;5;28;01mdef\u001b[39;00m \u001b[38;5;21mload\u001b[39m(\u001b[38;5;28mself\u001b[39m) \u001b[38;5;241m-\u001b[39m\u001b[38;5;241m>\u001b[39m List[Document]:\n\u001b[1;32m     28\u001b[0m \u001b[38;5;250m    \u001b[39m\u001b[38;5;124;03m\"\"\"Load data into Document objects.\"\"\"\u001b[39;00m\n\u001b[0;32m---> 29\u001b[0m     \u001b[38;5;28;01mreturn\u001b[39;00m \u001b[38;5;28mlist\u001b[39m(\u001b[38;5;28mself\u001b[39m\u001b[38;5;241m.\u001b[39mlazy_load())\n",
      "File \u001b[0;32m/opt/anaconda3/lib/python3.11/site-packages/langchain_community/document_loaders/unstructured.py:88\u001b[0m, in \u001b[0;36mUnstructuredBaseLoader.lazy_load\u001b[0;34m(self)\u001b[0m\n\u001b[1;32m     86\u001b[0m \u001b[38;5;28;01mdef\u001b[39;00m \u001b[38;5;21mlazy_load\u001b[39m(\u001b[38;5;28mself\u001b[39m) \u001b[38;5;241m-\u001b[39m\u001b[38;5;241m>\u001b[39m Iterator[Document]:\n\u001b[1;32m     87\u001b[0m \u001b[38;5;250m    \u001b[39m\u001b[38;5;124;03m\"\"\"Load file.\"\"\"\u001b[39;00m\n\u001b[0;32m---> 88\u001b[0m     elements \u001b[38;5;241m=\u001b[39m \u001b[38;5;28mself\u001b[39m\u001b[38;5;241m.\u001b[39m_get_elements()\n\u001b[1;32m     89\u001b[0m     \u001b[38;5;28mself\u001b[39m\u001b[38;5;241m.\u001b[39m_post_process_elements(elements)\n\u001b[1;32m     90\u001b[0m     \u001b[38;5;28;01mif\u001b[39;00m \u001b[38;5;28mself\u001b[39m\u001b[38;5;241m.\u001b[39mmode \u001b[38;5;241m==\u001b[39m \u001b[38;5;124m\"\u001b[39m\u001b[38;5;124melements\u001b[39m\u001b[38;5;124m\"\u001b[39m:\n",
      "File \u001b[0;32m/opt/anaconda3/lib/python3.11/site-packages/langchain_community/document_loaders/pdf.py:73\u001b[0m, in \u001b[0;36mUnstructuredPDFLoader._get_elements\u001b[0;34m(self)\u001b[0m\n\u001b[1;32m     70\u001b[0m \u001b[38;5;28;01mdef\u001b[39;00m \u001b[38;5;21m_get_elements\u001b[39m(\u001b[38;5;28mself\u001b[39m) \u001b[38;5;241m-\u001b[39m\u001b[38;5;241m>\u001b[39m List:\n\u001b[1;32m     71\u001b[0m     \u001b[38;5;28;01mfrom\u001b[39;00m \u001b[38;5;21;01munstructured\u001b[39;00m\u001b[38;5;21;01m.\u001b[39;00m\u001b[38;5;21;01mpartition\u001b[39;00m\u001b[38;5;21;01m.\u001b[39;00m\u001b[38;5;21;01mpdf\u001b[39;00m \u001b[38;5;28;01mimport\u001b[39;00m partition_pdf\n\u001b[0;32m---> 73\u001b[0m     \u001b[38;5;28;01mreturn\u001b[39;00m partition_pdf(filename\u001b[38;5;241m=\u001b[39m\u001b[38;5;28mself\u001b[39m\u001b[38;5;241m.\u001b[39mfile_path, \u001b[38;5;241m*\u001b[39m\u001b[38;5;241m*\u001b[39m\u001b[38;5;28mself\u001b[39m\u001b[38;5;241m.\u001b[39munstructured_kwargs)\n",
      "File \u001b[0;32m/opt/anaconda3/lib/python3.11/site-packages/unstructured/documents/elements.py:591\u001b[0m, in \u001b[0;36mprocess_metadata.<locals>.decorator.<locals>.wrapper\u001b[0;34m(*args, **kwargs)\u001b[0m\n\u001b[1;32m    589\u001b[0m \u001b[38;5;129m@functools\u001b[39m\u001b[38;5;241m.\u001b[39mwraps(func)\n\u001b[1;32m    590\u001b[0m \u001b[38;5;28;01mdef\u001b[39;00m \u001b[38;5;21mwrapper\u001b[39m(\u001b[38;5;241m*\u001b[39margs: _P\u001b[38;5;241m.\u001b[39margs, \u001b[38;5;241m*\u001b[39m\u001b[38;5;241m*\u001b[39mkwargs: _P\u001b[38;5;241m.\u001b[39mkwargs) \u001b[38;5;241m-\u001b[39m\u001b[38;5;241m>\u001b[39m \u001b[38;5;28mlist\u001b[39m[Element]:\n\u001b[0;32m--> 591\u001b[0m     elements \u001b[38;5;241m=\u001b[39m func(\u001b[38;5;241m*\u001b[39margs, \u001b[38;5;241m*\u001b[39m\u001b[38;5;241m*\u001b[39mkwargs)\n\u001b[1;32m    592\u001b[0m     call_args \u001b[38;5;241m=\u001b[39m get_call_args_applying_defaults(func, \u001b[38;5;241m*\u001b[39margs, \u001b[38;5;241m*\u001b[39m\u001b[38;5;241m*\u001b[39mkwargs)\n\u001b[1;32m    594\u001b[0m     regex_metadata: \u001b[38;5;28mdict\u001b[39m[\u001b[38;5;124m\"\u001b[39m\u001b[38;5;124mstr\u001b[39m\u001b[38;5;124m\"\u001b[39m, \u001b[38;5;124m\"\u001b[39m\u001b[38;5;124mstr\u001b[39m\u001b[38;5;124m\"\u001b[39m] \u001b[38;5;241m=\u001b[39m call_args\u001b[38;5;241m.\u001b[39mget(\u001b[38;5;124m\"\u001b[39m\u001b[38;5;124mregex_metadata\u001b[39m\u001b[38;5;124m\"\u001b[39m, {})\n",
      "File \u001b[0;32m/opt/anaconda3/lib/python3.11/site-packages/unstructured/file_utils/filetype.py:618\u001b[0m, in \u001b[0;36madd_filetype.<locals>.decorator.<locals>.wrapper\u001b[0;34m(*args, **kwargs)\u001b[0m\n\u001b[1;32m    616\u001b[0m \u001b[38;5;129m@functools\u001b[39m\u001b[38;5;241m.\u001b[39mwraps(func)\n\u001b[1;32m    617\u001b[0m \u001b[38;5;28;01mdef\u001b[39;00m \u001b[38;5;21mwrapper\u001b[39m(\u001b[38;5;241m*\u001b[39margs: _P\u001b[38;5;241m.\u001b[39margs, \u001b[38;5;241m*\u001b[39m\u001b[38;5;241m*\u001b[39mkwargs: _P\u001b[38;5;241m.\u001b[39mkwargs) \u001b[38;5;241m-\u001b[39m\u001b[38;5;241m>\u001b[39m List[Element]:\n\u001b[0;32m--> 618\u001b[0m     elements \u001b[38;5;241m=\u001b[39m func(\u001b[38;5;241m*\u001b[39margs, \u001b[38;5;241m*\u001b[39m\u001b[38;5;241m*\u001b[39mkwargs)\n\u001b[1;32m    619\u001b[0m     params \u001b[38;5;241m=\u001b[39m get_call_args_applying_defaults(func, \u001b[38;5;241m*\u001b[39margs, \u001b[38;5;241m*\u001b[39m\u001b[38;5;241m*\u001b[39mkwargs)\n\u001b[1;32m    620\u001b[0m     include_metadata \u001b[38;5;241m=\u001b[39m params\u001b[38;5;241m.\u001b[39mget(\u001b[38;5;124m\"\u001b[39m\u001b[38;5;124minclude_metadata\u001b[39m\u001b[38;5;124m\"\u001b[39m, \u001b[38;5;28;01mTrue\u001b[39;00m)\n",
      "File \u001b[0;32m/opt/anaconda3/lib/python3.11/site-packages/unstructured/file_utils/filetype.py:582\u001b[0m, in \u001b[0;36madd_metadata.<locals>.wrapper\u001b[0;34m(*args, **kwargs)\u001b[0m\n\u001b[1;32m    580\u001b[0m \u001b[38;5;129m@functools\u001b[39m\u001b[38;5;241m.\u001b[39mwraps(func)\n\u001b[1;32m    581\u001b[0m \u001b[38;5;28;01mdef\u001b[39;00m \u001b[38;5;21mwrapper\u001b[39m(\u001b[38;5;241m*\u001b[39margs: _P\u001b[38;5;241m.\u001b[39margs, \u001b[38;5;241m*\u001b[39m\u001b[38;5;241m*\u001b[39mkwargs: _P\u001b[38;5;241m.\u001b[39mkwargs) \u001b[38;5;241m-\u001b[39m\u001b[38;5;241m>\u001b[39m List[Element]:\n\u001b[0;32m--> 582\u001b[0m     elements \u001b[38;5;241m=\u001b[39m func(\u001b[38;5;241m*\u001b[39margs, \u001b[38;5;241m*\u001b[39m\u001b[38;5;241m*\u001b[39mkwargs)\n\u001b[1;32m    583\u001b[0m     call_args \u001b[38;5;241m=\u001b[39m get_call_args_applying_defaults(func, \u001b[38;5;241m*\u001b[39margs, \u001b[38;5;241m*\u001b[39m\u001b[38;5;241m*\u001b[39mkwargs)\n\u001b[1;32m    584\u001b[0m     include_metadata \u001b[38;5;241m=\u001b[39m call_args\u001b[38;5;241m.\u001b[39mget(\u001b[38;5;124m\"\u001b[39m\u001b[38;5;124minclude_metadata\u001b[39m\u001b[38;5;124m\"\u001b[39m, \u001b[38;5;28;01mTrue\u001b[39;00m)\n",
      "File \u001b[0;32m/opt/anaconda3/lib/python3.11/site-packages/unstructured/chunking/dispatch.py:74\u001b[0m, in \u001b[0;36madd_chunking_strategy.<locals>.wrapper\u001b[0;34m(*args, **kwargs)\u001b[0m\n\u001b[1;32m     71\u001b[0m \u001b[38;5;250m\u001b[39m\u001b[38;5;124;03m\"\"\"The decorated function is replaced with this one.\"\"\"\u001b[39;00m\n\u001b[1;32m     73\u001b[0m \u001b[38;5;66;03m# -- call the partitioning function to get the elements --\u001b[39;00m\n\u001b[0;32m---> 74\u001b[0m elements \u001b[38;5;241m=\u001b[39m func(\u001b[38;5;241m*\u001b[39margs, \u001b[38;5;241m*\u001b[39m\u001b[38;5;241m*\u001b[39mkwargs)\n\u001b[1;32m     76\u001b[0m \u001b[38;5;66;03m# -- look for a chunking-strategy argument --\u001b[39;00m\n\u001b[1;32m     77\u001b[0m call_args \u001b[38;5;241m=\u001b[39m get_call_args_applying_defaults(func, \u001b[38;5;241m*\u001b[39margs, \u001b[38;5;241m*\u001b[39m\u001b[38;5;241m*\u001b[39mkwargs)\n",
      "File \u001b[0;32m/opt/anaconda3/lib/python3.11/site-packages/unstructured/partition/pdf.py:192\u001b[0m, in \u001b[0;36mpartition_pdf\u001b[0;34m(filename, file, include_page_breaks, strategy, infer_table_structure, ocr_languages, languages, include_metadata, metadata_filename, metadata_last_modified, chunking_strategy, hi_res_model_name, extract_images_in_pdf, extract_image_block_types, extract_image_block_output_dir, extract_image_block_to_payload, date_from_file_object, starting_page_number, extract_forms, form_extraction_skip_tables, **kwargs)\u001b[0m\n\u001b[1;32m    188\u001b[0m exactly_one(filename\u001b[38;5;241m=\u001b[39mfilename, file\u001b[38;5;241m=\u001b[39mfile)\n\u001b[1;32m    190\u001b[0m languages \u001b[38;5;241m=\u001b[39m check_language_args(languages \u001b[38;5;129;01mor\u001b[39;00m [], ocr_languages) \u001b[38;5;129;01mor\u001b[39;00m [\u001b[38;5;124m\"\u001b[39m\u001b[38;5;124meng\u001b[39m\u001b[38;5;124m\"\u001b[39m]\n\u001b[0;32m--> 192\u001b[0m \u001b[38;5;28;01mreturn\u001b[39;00m partition_pdf_or_image(\n\u001b[1;32m    193\u001b[0m     filename\u001b[38;5;241m=\u001b[39mfilename,\n\u001b[1;32m    194\u001b[0m     file\u001b[38;5;241m=\u001b[39mfile,\n\u001b[1;32m    195\u001b[0m     include_page_breaks\u001b[38;5;241m=\u001b[39minclude_page_breaks,\n\u001b[1;32m    196\u001b[0m     strategy\u001b[38;5;241m=\u001b[39mstrategy,\n\u001b[1;32m    197\u001b[0m     infer_table_structure\u001b[38;5;241m=\u001b[39minfer_table_structure,\n\u001b[1;32m    198\u001b[0m     languages\u001b[38;5;241m=\u001b[39mlanguages,\n\u001b[1;32m    199\u001b[0m     metadata_last_modified\u001b[38;5;241m=\u001b[39mmetadata_last_modified,\n\u001b[1;32m    200\u001b[0m     hi_res_model_name\u001b[38;5;241m=\u001b[39mhi_res_model_name,\n\u001b[1;32m    201\u001b[0m     extract_images_in_pdf\u001b[38;5;241m=\u001b[39mextract_images_in_pdf,\n\u001b[1;32m    202\u001b[0m     extract_image_block_types\u001b[38;5;241m=\u001b[39mextract_image_block_types,\n\u001b[1;32m    203\u001b[0m     extract_image_block_output_dir\u001b[38;5;241m=\u001b[39mextract_image_block_output_dir,\n\u001b[1;32m    204\u001b[0m     extract_image_block_to_payload\u001b[38;5;241m=\u001b[39mextract_image_block_to_payload,\n\u001b[1;32m    205\u001b[0m     date_from_file_object\u001b[38;5;241m=\u001b[39mdate_from_file_object,\n\u001b[1;32m    206\u001b[0m     starting_page_number\u001b[38;5;241m=\u001b[39mstarting_page_number,\n\u001b[1;32m    207\u001b[0m     extract_forms\u001b[38;5;241m=\u001b[39mextract_forms,\n\u001b[1;32m    208\u001b[0m     form_extraction_skip_tables\u001b[38;5;241m=\u001b[39mform_extraction_skip_tables,\n\u001b[1;32m    209\u001b[0m     \u001b[38;5;241m*\u001b[39m\u001b[38;5;241m*\u001b[39mkwargs,\n\u001b[1;32m    210\u001b[0m )\n",
      "File \u001b[0;32m/opt/anaconda3/lib/python3.11/site-packages/unstructured/partition/pdf.py:321\u001b[0m, in \u001b[0;36mpartition_pdf_or_image\u001b[0;34m(filename, file, is_image, include_page_breaks, strategy, infer_table_structure, ocr_languages, languages, metadata_last_modified, hi_res_model_name, extract_images_in_pdf, extract_image_block_types, extract_image_block_output_dir, extract_image_block_to_payload, date_from_file_object, starting_page_number, extract_forms, form_extraction_skip_tables, **kwargs)\u001b[0m\n\u001b[1;32m    318\u001b[0m \u001b[38;5;28;01melif\u001b[39;00m strategy \u001b[38;5;241m==\u001b[39m PartitionStrategy\u001b[38;5;241m.\u001b[39mOCR_ONLY:\n\u001b[1;32m    319\u001b[0m     \u001b[38;5;66;03m# NOTE(robinson): Catches file conversion warnings when running with PDFs\u001b[39;00m\n\u001b[1;32m    320\u001b[0m     \u001b[38;5;28;01mwith\u001b[39;00m warnings\u001b[38;5;241m.\u001b[39mcatch_warnings():\n\u001b[0;32m--> 321\u001b[0m         elements \u001b[38;5;241m=\u001b[39m _partition_pdf_or_image_with_ocr(\n\u001b[1;32m    322\u001b[0m             filename\u001b[38;5;241m=\u001b[39mfilename,\n\u001b[1;32m    323\u001b[0m             file\u001b[38;5;241m=\u001b[39mfile,\n\u001b[1;32m    324\u001b[0m             include_page_breaks\u001b[38;5;241m=\u001b[39minclude_page_breaks,\n\u001b[1;32m    325\u001b[0m             languages\u001b[38;5;241m=\u001b[39mlanguages,\n\u001b[1;32m    326\u001b[0m             is_image\u001b[38;5;241m=\u001b[39mis_image,\n\u001b[1;32m    327\u001b[0m             metadata_last_modified\u001b[38;5;241m=\u001b[39mmetadata_last_modified \u001b[38;5;129;01mor\u001b[39;00m last_modification_date,\n\u001b[1;32m    328\u001b[0m             starting_page_number\u001b[38;5;241m=\u001b[39mstarting_page_number,\n\u001b[1;32m    329\u001b[0m             \u001b[38;5;241m*\u001b[39m\u001b[38;5;241m*\u001b[39mkwargs,\n\u001b[1;32m    330\u001b[0m         )\n\u001b[1;32m    331\u001b[0m         out_elements \u001b[38;5;241m=\u001b[39m _process_uncategorized_text_elements(elements)\n\u001b[1;32m    333\u001b[0m \u001b[38;5;28;01mreturn\u001b[39;00m out_elements\n",
      "File \u001b[0;32m/opt/anaconda3/lib/python3.11/site-packages/unstructured/partition/pdf.py:773\u001b[0m, in \u001b[0;36m_partition_pdf_or_image_with_ocr\u001b[0;34m(filename, file, include_page_breaks, languages, is_image, metadata_last_modified, starting_page_number, **kwargs)\u001b[0m\n\u001b[1;32m    771\u001b[0m         elements\u001b[38;5;241m.\u001b[39mextend(page_elements)\n\u001b[1;32m    772\u001b[0m \u001b[38;5;28;01melse\u001b[39;00m:\n\u001b[0;32m--> 773\u001b[0m     \u001b[38;5;28;01mfor\u001b[39;00m page_number, image \u001b[38;5;129;01min\u001b[39;00m \u001b[38;5;28menumerate\u001b[39m(\n\u001b[1;32m    774\u001b[0m         convert_pdf_to_images(filename, file), start\u001b[38;5;241m=\u001b[39mstarting_page_number\n\u001b[1;32m    775\u001b[0m     ):\n\u001b[1;32m    776\u001b[0m         page_elements \u001b[38;5;241m=\u001b[39m _partition_pdf_or_image_with_ocr_from_image(\n\u001b[1;32m    777\u001b[0m             image\u001b[38;5;241m=\u001b[39mimage,\n\u001b[1;32m    778\u001b[0m             languages\u001b[38;5;241m=\u001b[39mlanguages,\n\u001b[0;32m   (...)\u001b[0m\n\u001b[1;32m    782\u001b[0m             \u001b[38;5;241m*\u001b[39m\u001b[38;5;241m*\u001b[39mkwargs,\n\u001b[1;32m    783\u001b[0m         )\n\u001b[1;32m    784\u001b[0m         elements\u001b[38;5;241m.\u001b[39mextend(page_elements)\n",
      "File \u001b[0;32m/opt/anaconda3/lib/python3.11/site-packages/unstructured/partition/pdf_image/pdf_image_utils.py:389\u001b[0m, in \u001b[0;36mconvert_pdf_to_images\u001b[0;34m(filename, file, chunk_size)\u001b[0m\n\u001b[1;32m    387\u001b[0m \u001b[38;5;28;01melse\u001b[39;00m:\n\u001b[1;32m    388\u001b[0m     f_bytes \u001b[38;5;241m=\u001b[39m \u001b[38;5;28;01mNone\u001b[39;00m\n\u001b[0;32m--> 389\u001b[0m     info \u001b[38;5;241m=\u001b[39m pdf2image\u001b[38;5;241m.\u001b[39mpdfinfo_from_path(filename)\n\u001b[1;32m    391\u001b[0m total_pages \u001b[38;5;241m=\u001b[39m info[\u001b[38;5;124m\"\u001b[39m\u001b[38;5;124mPages\u001b[39m\u001b[38;5;124m\"\u001b[39m]\n\u001b[1;32m    392\u001b[0m \u001b[38;5;28;01mfor\u001b[39;00m start_page \u001b[38;5;129;01min\u001b[39;00m \u001b[38;5;28mrange\u001b[39m(\u001b[38;5;241m1\u001b[39m, total_pages \u001b[38;5;241m+\u001b[39m \u001b[38;5;241m1\u001b[39m, chunk_size):\n",
      "File \u001b[0;32m/opt/anaconda3/lib/python3.11/site-packages/pdf2image/pdf2image.py:607\u001b[0m, in \u001b[0;36mpdfinfo_from_path\u001b[0;34m(pdf_path, userpw, ownerpw, poppler_path, rawdates, timeout, first_page, last_page)\u001b[0m\n\u001b[1;32m    604\u001b[0m     \u001b[38;5;28;01mreturn\u001b[39;00m d\n\u001b[1;32m    606\u001b[0m \u001b[38;5;28;01mexcept\u001b[39;00m \u001b[38;5;167;01mOSError\u001b[39;00m:\n\u001b[0;32m--> 607\u001b[0m     \u001b[38;5;28;01mraise\u001b[39;00m PDFInfoNotInstalledError(\n\u001b[1;32m    608\u001b[0m         \u001b[38;5;124m\"\u001b[39m\u001b[38;5;124mUnable to get page count. Is poppler installed and in PATH?\u001b[39m\u001b[38;5;124m\"\u001b[39m\n\u001b[1;32m    609\u001b[0m     )\n\u001b[1;32m    610\u001b[0m \u001b[38;5;28;01mexcept\u001b[39;00m \u001b[38;5;167;01mValueError\u001b[39;00m:\n\u001b[1;32m    611\u001b[0m     \u001b[38;5;28;01mraise\u001b[39;00m PDFPageCountError(\n\u001b[1;32m    612\u001b[0m         \u001b[38;5;124mf\u001b[39m\u001b[38;5;124m\"\u001b[39m\u001b[38;5;124mUnable to get page count.\u001b[39m\u001b[38;5;130;01m\\n\u001b[39;00m\u001b[38;5;132;01m{\u001b[39;00merr\u001b[38;5;241m.\u001b[39mdecode(\u001b[38;5;124m'\u001b[39m\u001b[38;5;124mutf8\u001b[39m\u001b[38;5;124m'\u001b[39m,\u001b[38;5;250m \u001b[39m\u001b[38;5;124m'\u001b[39m\u001b[38;5;124mignore\u001b[39m\u001b[38;5;124m'\u001b[39m)\u001b[38;5;132;01m}\u001b[39;00m\u001b[38;5;124m\"\u001b[39m\n\u001b[1;32m    613\u001b[0m     )\n",
      "\u001b[0;31mPDFInfoNotInstalledError\u001b[0m: Unable to get page count. Is poppler installed and in PATH?"
     ]
    }
   ],
   "source": [
    "local_path = \"compassguide.pdf\"\n",
    "\n",
    "# Local PDF file uploads\n",
    "if local_path:\n",
    "  loader = UnstructuredPDFLoader(file_path=local_path)\n",
    "  data = loader.load()\n",
    "else:\n",
    "  print(\"Upload a PDF file\")"
   ]
  },
  {
   "cell_type": "code",
   "execution_count": 3,
   "id": "af519b86-a786-4ce7-b415-6bfc4e1d55a4",
   "metadata": {},
   "outputs": [
    {
     "name": "stdout",
     "output_type": "stream",
     "text": [
      "Collecting unstructured\n",
      "  Downloading unstructured-0.14.5-py3-none-any.whl.metadata (28 kB)\n",
      "Requirement already satisfied: chardet in /opt/anaconda3/lib/python3.11/site-packages (from unstructured) (4.0.0)\n",
      "Collecting filetype (from unstructured)\n",
      "  Downloading filetype-1.2.0-py2.py3-none-any.whl.metadata (6.5 kB)\n",
      "Requirement already satisfied: python-magic in /opt/anaconda3/lib/python3.11/site-packages (from unstructured) (0.4.27)\n",
      "Requirement already satisfied: lxml in /opt/anaconda3/lib/python3.11/site-packages (from unstructured) (4.9.4)\n",
      "Requirement already satisfied: nltk in /opt/anaconda3/lib/python3.11/site-packages (from unstructured) (3.8.1)\n",
      "Requirement already satisfied: tabulate in /opt/anaconda3/lib/python3.11/site-packages (from unstructured) (0.9.0)\n",
      "Requirement already satisfied: requests in /opt/anaconda3/lib/python3.11/site-packages (from unstructured) (2.31.0)\n",
      "Requirement already satisfied: beautifulsoup4 in /opt/anaconda3/lib/python3.11/site-packages (from unstructured) (4.12.2)\n",
      "Collecting emoji (from unstructured)\n",
      "  Downloading emoji-2.12.1-py3-none-any.whl.metadata (5.4 kB)\n",
      "Requirement already satisfied: dataclasses-json in /opt/anaconda3/lib/python3.11/site-packages (from unstructured) (0.6.4)\n",
      "Collecting python-iso639 (from unstructured)\n",
      "  Downloading python_iso639-2024.4.27-py3-none-any.whl.metadata (13 kB)\n",
      "Collecting langdetect (from unstructured)\n",
      "  Downloading langdetect-1.0.9.tar.gz (981 kB)\n",
      "\u001b[2K     \u001b[90m━━━━━━━━━━━━━━━━━━━━━━━━━━━━━━━━━━━━━━\u001b[0m \u001b[32m981.5/981.5 kB\u001b[0m \u001b[31m12.5 kB/s\u001b[0m eta \u001b[36m0:00:00\u001b[0m00:02\u001b[0m00:03\u001b[0m\n",
      "\u001b[?25h  Preparing metadata (setup.py) ... \u001b[?25ldone\n",
      "\u001b[?25hRequirement already satisfied: numpy in /opt/anaconda3/lib/python3.11/site-packages (from unstructured) (1.26.4)\n",
      "Requirement already satisfied: rapidfuzz in /opt/anaconda3/lib/python3.11/site-packages (from unstructured) (3.9.0)\n",
      "Requirement already satisfied: backoff in /opt/anaconda3/lib/python3.11/site-packages (from unstructured) (2.2.1)\n",
      "Requirement already satisfied: typing-extensions in /opt/anaconda3/lib/python3.11/site-packages (from unstructured) (4.9.0)\n",
      "Collecting unstructured-client (from unstructured)\n",
      "  Downloading unstructured_client-0.23.1-py3-none-any.whl.metadata (11 kB)\n",
      "Requirement already satisfied: wrapt in /opt/anaconda3/lib/python3.11/site-packages (from unstructured) (1.14.1)\n",
      "Requirement already satisfied: soupsieve>1.2 in /opt/anaconda3/lib/python3.11/site-packages (from beautifulsoup4->unstructured) (2.5)\n",
      "Requirement already satisfied: marshmallow<4.0.0,>=3.18.0 in /opt/anaconda3/lib/python3.11/site-packages (from dataclasses-json->unstructured) (3.21.1)\n",
      "Requirement already satisfied: typing-inspect<1,>=0.4.0 in /opt/anaconda3/lib/python3.11/site-packages (from dataclasses-json->unstructured) (0.9.0)\n",
      "Requirement already satisfied: six in /opt/anaconda3/lib/python3.11/site-packages (from langdetect->unstructured) (1.16.0)\n",
      "Requirement already satisfied: click in /opt/anaconda3/lib/python3.11/site-packages (from nltk->unstructured) (8.1.7)\n",
      "Requirement already satisfied: joblib in /opt/anaconda3/lib/python3.11/site-packages (from nltk->unstructured) (1.2.0)\n",
      "Requirement already satisfied: regex>=2021.8.3 in /opt/anaconda3/lib/python3.11/site-packages (from nltk->unstructured) (2023.10.3)\n",
      "Requirement already satisfied: tqdm in /opt/anaconda3/lib/python3.11/site-packages (from nltk->unstructured) (4.65.0)\n",
      "Requirement already satisfied: charset-normalizer<4,>=2 in /opt/anaconda3/lib/python3.11/site-packages (from requests->unstructured) (3.3.2)\n",
      "Requirement already satisfied: idna<4,>=2.5 in /opt/anaconda3/lib/python3.11/site-packages (from requests->unstructured) (3.4)\n",
      "Requirement already satisfied: urllib3<3,>=1.21.1 in /opt/anaconda3/lib/python3.11/site-packages (from requests->unstructured) (2.0.7)\n",
      "Requirement already satisfied: certifi>=2017.4.17 in /opt/anaconda3/lib/python3.11/site-packages (from requests->unstructured) (2024.2.2)\n",
      "Collecting deepdiff>=6.0 (from unstructured-client->unstructured)\n",
      "  Downloading deepdiff-7.0.1-py3-none-any.whl.metadata (6.8 kB)\n",
      "Collecting httpx>=0.27.0 (from unstructured-client->unstructured)\n",
      "  Using cached httpx-0.27.0-py3-none-any.whl.metadata (7.2 kB)\n",
      "Collecting jsonpath-python>=1.0.6 (from unstructured-client->unstructured)\n",
      "  Downloading jsonpath_python-1.0.6-py3-none-any.whl.metadata (12 kB)\n",
      "Requirement already satisfied: mypy-extensions>=1.0.0 in /opt/anaconda3/lib/python3.11/site-packages (from unstructured-client->unstructured) (1.0.0)\n",
      "Requirement already satisfied: nest-asyncio>=1.6.0 in /opt/anaconda3/lib/python3.11/site-packages (from unstructured-client->unstructured) (1.6.0)\n",
      "Requirement already satisfied: packaging>=23.1 in /opt/anaconda3/lib/python3.11/site-packages (from unstructured-client->unstructured) (23.2)\n",
      "Collecting pypdf>=4.0 (from unstructured-client->unstructured)\n",
      "  Downloading pypdf-4.2.0-py3-none-any.whl.metadata (7.4 kB)\n",
      "Requirement already satisfied: python-dateutil>=2.8.2 in /opt/anaconda3/lib/python3.11/site-packages (from unstructured-client->unstructured) (2.8.2)\n",
      "Requirement already satisfied: requests-toolbelt>=1.0.0 in /opt/anaconda3/lib/python3.11/site-packages (from unstructured-client->unstructured) (1.0.0)\n",
      "Collecting ordered-set<4.2.0,>=4.1.0 (from deepdiff>=6.0->unstructured-client->unstructured)\n",
      "  Downloading ordered_set-4.1.0-py3-none-any.whl.metadata (5.3 kB)\n",
      "Requirement already satisfied: anyio in /opt/anaconda3/lib/python3.11/site-packages (from httpx>=0.27.0->unstructured-client->unstructured) (4.2.0)\n",
      "Requirement already satisfied: httpcore==1.* in /opt/anaconda3/lib/python3.11/site-packages (from httpx>=0.27.0->unstructured-client->unstructured) (1.0.5)\n",
      "Requirement already satisfied: sniffio in /opt/anaconda3/lib/python3.11/site-packages (from httpx>=0.27.0->unstructured-client->unstructured) (1.3.0)\n",
      "Requirement already satisfied: h11<0.15,>=0.13 in /opt/anaconda3/lib/python3.11/site-packages (from httpcore==1.*->httpx>=0.27.0->unstructured-client->unstructured) (0.14.0)\n",
      "Downloading unstructured-0.14.5-py3-none-any.whl (2.0 MB)\n",
      "\u001b[2K   \u001b[90m━━━━━━━━━━━━━━━━━━━━━━━━━━━━━━━━━━━━━━━━\u001b[0m \u001b[32m2.0/2.0 MB\u001b[0m \u001b[31m25.0 kB/s\u001b[0m eta \u001b[36m0:00:00\u001b[0m00:01\u001b[0m00:03\u001b[0m\n",
      "\u001b[?25hDownloading emoji-2.12.1-py3-none-any.whl (431 kB)\n",
      "\u001b[2K   \u001b[90m━━━━━━━━━━━━━━━━━━━━━━━━━━━━━━━━━━━━━━━━\u001b[0m \u001b[32m431.4/431.4 kB\u001b[0m \u001b[31m23.0 kB/s\u001b[0m eta \u001b[36m0:00:00\u001b[0ma \u001b[36m0:00:01\u001b[0m\n",
      "\u001b[?25hDownloading filetype-1.2.0-py2.py3-none-any.whl (19 kB)\n",
      "Downloading python_iso639-2024.4.27-py3-none-any.whl (274 kB)\n",
      "\u001b[2K   \u001b[90m━━━━━━━━━━━━━━━━━━━━━━━━━━━━━━━━━━━━━━━━\u001b[0m \u001b[32m274.7/274.7 kB\u001b[0m \u001b[31m22.8 kB/s\u001b[0m eta \u001b[36m0:00:00\u001b[0ma \u001b[36m0:00:01\u001b[0m\n",
      "\u001b[?25hDownloading unstructured_client-0.23.1-py3-none-any.whl (40 kB)\n",
      "\u001b[2K   \u001b[90m━━━━━━━━━━━━━━━━━━━━━━━━━━━━━━━━━━━━━━━━\u001b[0m \u001b[32m40.1/40.1 kB\u001b[0m \u001b[31m21.4 kB/s\u001b[0m eta \u001b[36m0:00:00\u001b[0ma \u001b[36m0:00:01\u001b[0m\n",
      "\u001b[?25hDownloading deepdiff-7.0.1-py3-none-any.whl (80 kB)\n",
      "\u001b[2K   \u001b[90m━━━━━━━━━━━━━━━━━━━━━━━━━━━━━━━━━━━━━━━━\u001b[0m \u001b[32m80.8/80.8 kB\u001b[0m \u001b[31m18.2 kB/s\u001b[0m eta \u001b[36m0:00:00\u001b[0ma \u001b[36m0:00:01\u001b[0m\n",
      "\u001b[?25hUsing cached httpx-0.27.0-py3-none-any.whl (75 kB)\n",
      "Downloading jsonpath_python-1.0.6-py3-none-any.whl (7.6 kB)\n",
      "Downloading pypdf-4.2.0-py3-none-any.whl (290 kB)\n",
      "\u001b[2K   \u001b[90m━━━━━━━━━━━━━━━━━━━━━━━━━━━━━━━━━━━━━━━━\u001b[0m \u001b[32m290.4/290.4 kB\u001b[0m \u001b[31m19.9 kB/s\u001b[0m eta \u001b[36m0:00:00\u001b[0ma \u001b[36m0:00:01\u001b[0m\n",
      "\u001b[?25hDownloading ordered_set-4.1.0-py3-none-any.whl (7.6 kB)\n",
      "Building wheels for collected packages: langdetect\n",
      "  Building wheel for langdetect (setup.py) ... \u001b[?25ldone\n",
      "\u001b[?25h  Created wheel for langdetect: filename=langdetect-1.0.9-py3-none-any.whl size=993224 sha256=32e0dbf7bec7c5a3b3ec0692a0853287dccafa2ccb48b097a83cec1500c4eef6\n",
      "  Stored in directory: /Users/suranjan/Library/Caches/pip/wheels/0a/f2/b2/e5ca405801e05eb7c8ed5b3b4bcf1fcabcd6272c167640072e\n",
      "Successfully built langdetect\n",
      "Installing collected packages: filetype, python-iso639, pypdf, ordered-set, langdetect, jsonpath-python, emoji, httpx, deepdiff, unstructured-client, unstructured\n",
      "  Attempting uninstall: pypdf\n",
      "    Found existing installation: pypdf 3.17.4\n",
      "    Uninstalling pypdf-3.17.4:\n",
      "      Successfully uninstalled pypdf-3.17.4\n",
      "  Attempting uninstall: httpx\n",
      "    Found existing installation: httpx 0.25.2\n",
      "    Uninstalling httpx-0.25.2:\n",
      "      Successfully uninstalled httpx-0.25.2\n",
      "\u001b[31mERROR: pip's dependency resolver does not currently take into account all the packages that are installed. This behaviour is the source of the following dependency conflicts.\n",
      "langroid 0.1.246 requires pypdf<4.0.0,>=3.12.2, but you have pypdf 4.2.0 which is incompatible.\n",
      "langroid 0.1.246 requires tiktoken<0.6.0,>=0.5.1, but you have tiktoken 0.7.0 which is incompatible.\n",
      "langroid 0.1.246 requires typer<0.10.0,>=0.9.0, but you have typer 0.12.3 which is incompatible.\n",
      "ollama 0.1.6 requires httpx<0.26.0,>=0.25.2, but you have httpx 0.27.0 which is incompatible.\u001b[0m\u001b[31m\n",
      "\u001b[0mSuccessfully installed deepdiff-7.0.1 emoji-2.12.1 filetype-1.2.0 httpx-0.27.0 jsonpath-python-1.0.6 langdetect-1.0.9 ordered-set-4.1.0 pypdf-4.2.0 python-iso639-2024.4.27 unstructured-0.14.5 unstructured-client-0.23.1\n"
     ]
    }
   ],
   "source": [
    "!pip install unstructured"
   ]
  },
  {
   "cell_type": "code",
   "execution_count": 5,
   "id": "99dd7714-a56a-4020-91e4-593334c6869f",
   "metadata": {},
   "outputs": [
    {
     "name": "stdout",
     "output_type": "stream",
     "text": [
      "Collecting pillow_heif\n",
      "  Downloading pillow_heif-0.16.0-cp311-cp311-macosx_12_0_arm64.whl.metadata (9.3 kB)\n",
      "Requirement already satisfied: pillow>=9.5.0 in /opt/anaconda3/lib/python3.11/site-packages (from pillow_heif) (10.2.0)\n",
      "Downloading pillow_heif-0.16.0-cp311-cp311-macosx_12_0_arm64.whl (3.3 MB)\n",
      "\u001b[2K   \u001b[90m━━━━━━━━━━━━━━━━━━━━━━━━━━━━━━━━━━━━━━━━\u001b[0m \u001b[32m3.3/3.3 MB\u001b[0m \u001b[31m22.8 kB/s\u001b[0m eta \u001b[36m0:00:00\u001b[0m00:01\u001b[0m00:04\u001b[0m\n",
      "\u001b[?25hInstalling collected packages: pillow_heif\n",
      "Successfully installed pillow_heif-0.16.0\n"
     ]
    }
   ],
   "source": [
    "!pip install pillow_heif"
   ]
  },
  {
   "cell_type": "code",
   "execution_count": 9,
   "id": "94207abc-7b39-47ec-a7ff-d0685b330703",
   "metadata": {},
   "outputs": [
    {
     "name": "stdout",
     "output_type": "stream",
     "text": [
      "Collecting opencv-python\n",
      "  Using cached opencv_python-4.10.0.82-cp37-abi3-macosx_11_0_arm64.whl.metadata (20 kB)\n",
      "Requirement already satisfied: numpy>=1.21.2 in /opt/anaconda3/lib/python3.11/site-packages (from opencv-python) (1.26.4)\n",
      "Downloading opencv_python-4.10.0.82-cp37-abi3-macosx_11_0_arm64.whl (54.8 MB)\n",
      "\u001b[2K   \u001b[90m━━━━━━━━━━━━━━━━━━━━━━━━━━━━━━━━━━━━━━━━\u001b[0m \u001b[32m54.8/54.8 MB\u001b[0m \u001b[31m11.6 MB/s\u001b[0m eta \u001b[36m0:00:00\u001b[0m00:01\u001b[0m00:01\u001b[0m\n",
      "\u001b[?25hInstalling collected packages: opencv-python\n",
      "Successfully installed opencv-python-4.10.0.82\n"
     ]
    }
   ],
   "source": [
    "!pip install opencv-python"
   ]
  },
  {
   "cell_type": "code",
   "execution_count": 11,
   "id": "00d0f6c3-781d-4c4d-a700-ed27cdd60867",
   "metadata": {},
   "outputs": [
    {
     "name": "stdout",
     "output_type": "stream",
     "text": [
      "Requirement already satisfied: pymupdf in /opt/anaconda3/lib/python3.11/site-packages (1.24.4)\n",
      "Requirement already satisfied: PyMuPDFb==1.24.3 in /opt/anaconda3/lib/python3.11/site-packages (from pymupdf) (1.24.3)\n",
      "Note: you may need to restart the kernel to use updated packages.\n"
     ]
    }
   ],
   "source": [
    "pip install pymupdf\n"
   ]
  },
  {
   "cell_type": "code",
   "execution_count": 12,
   "id": "fc2ba858-a2c8-455c-a65a-7d3140653ffd",
   "metadata": {},
   "outputs": [
    {
     "name": "stdout",
     "output_type": "stream",
     "text": [
      "The popularity of playing esports can vary by region, game, and specific events, but \n",
      "generally, certain trends can be observed: \n",
      " \n",
      "Summer Months (June - August): Many people, especially students, have more free time \n",
      "during the summer vacation period. This leads to increased participation in esports \n",
      "activities and higher viewer engagement. \n",
      " \n",
      "Winter Months (December - February): With winter holidays and more indoor activities, \n",
      "there is often a spike in esports participation. Major tournaments and events are also \n",
      "frequently held during this period. \n",
      " \n",
      "Major Tournament Seasons: The timing of major esports tournaments, such as The \n",
      "International for Dota 2, the League of Legends World Championship, and the Fortnite \n",
      "World Cup, can significantly influence when people play and watch esports. These events \n",
      "often draw in large audiences and inspire more gameplay activity around their dates. \n",
      " \n",
      "In summary, June to August and December to February are generally the peak months for \n",
      "esports activity, with additional spikes corresponding to the schedules of major esports \n",
      "tournaments. \n",
      " \n",
      "In the UAE, the trends for esports participation and viewership may also be influenced by \n",
      "the climate, cultural events, and school schedules. Here's a more tailored overview for the \n",
      "UAE: \n",
      " \n",
      "Winter Months (October - April): Given the extreme heat in the UAE during the summer, \n",
      "many people prefer indoor activities during the cooler months. This can lead to increased \n",
      "participation in esports from October to April when the weather is more comfortable for \n",
      "staying indoors and engaging in gaming activities. \n",
      " \n",
      "Ramadan: The month of Ramadan, which follows the Islamic lunar calendar and thus \n",
      "shifts each year, often sees a change in daily routines, with more free time in the evenings \n",
      "after breaking the fast. This can lead to increased gaming activity, including esports, during \n",
      "the nights of Ramadan. \n",
      " \n",
      "School Holidays: Similar to global trends, school holidays (summer vacation, winter break) \n",
      "can influence esports activity. Despite the intense summer heat, the summer vacation \n",
      "period still sees increased gaming activity as students have more free time. \n",
      " \n",
      "Major Esports Events and Local Tournaments: The timing of international esports \n",
      "tournaments and local events organized in the UAE, such as those held at gaming \n",
      "conventions or by local esports organizations, can also drive spikes in participation and \n",
      "viewership. \n",
      " \n",
      "In summary, October to April generally sees higher esports activity in the UAE due to \n",
      "favorable weather, with additional peaks during Ramadan and school holidays. Local and \n",
      "international esports events also play a significant role in influencing when people play and \n",
      "watch esports. \n",
      " \n",
      "CS \n",
      "Tournament Schedule \n",
      "Day 1: Group Stage and Quarterfinals \n",
      "Morning: \n",
      " \n",
      "8:00 AM - 9:00 AM: Registration and Team Briefing \n",
      "9:00 AM - 12:00 PM: Group Stage Matches (Group A) \n",
      "Match 1: Team A vs Team B \n",
      "Match 2: Team C vs Team D \n",
      "Afternoon: \n",
      " \n",
      "12:00 PM - 1:00 PM: Lunch Break \n",
      "1:00 PM - 4:00 PM: Group Stage Matches (Group B) \n",
      "Match 3: Team E vs Team F \n",
      "Match 4: Team G vs Team H \n",
      "Evening: \n",
      " \n",
      "4:00 PM - 7:00 PM: Quarterfinals \n",
      "Match 5: 1st Group A vs 2nd Group B \n",
      "Match 6: 1st Group B vs 2nd Group A \n",
      "7:00 PM - 8:00 PM: Dinner Break \n",
      "8:00 PM - 10:00 PM: Show Match / Special Event \n",
      "Day 2: Semifinals, Finals, and Closing Ceremony \n",
      "Morning: \n",
      " \n",
      "9:00 AM - 10:00 AM: Team Warm-up \n",
      "10:00 AM - 1:00 PM: Semifinals \n",
      "Match 7: Winner Match 5 vs Winner Match 6 \n",
      "Afternoon: \n",
      " \n",
      "1:00 PM - 2:00 PM: Lunch Break \n",
      "2:00 PM - 5:00 PM: Third Place Match \n",
      "Match 8: Loser Match 5 vs Loser Match 6 \n",
      "Evening: \n",
      " \n",
      "5:00 PM - 8:00 PM: Grand Finals (Best of 3) \n",
      "Match 9: Winner Match 7 vs Winner Match 8 \n",
      "8:00 PM - 9:00 PM: Award Ceremony and Closing Remarks \n",
      "9:00 PM onwards: Media Interviews and Fan Meet-and-Greet \n",
      " \n",
      "NEWS :  \n",
      " \n",
      "United Arab Emirates \n",
      "NIP beat fnatic to secure semi-final spot at YaLLa Compass \n",
      "United Arab Emirates \n",
      "Live updates from YaLLa Compass quarter-finals \n",
      "United Arab Emirates \n",
      "Astralis through to semi-finals at YaLLa Compass \n",
      "Sweden \n",
      "isak: \"NIP has been all I’ve been looking up to since I started playing the game\" \n",
      "Russia \n",
      "Magnojez: \"When S0tF1k said he saw big potential in me, it was a huge morale boost\" \n",
      "United Arab Emirates \n",
      "FURIA top Group B as YaLLa Compass moves to playoffs \n",
      "United Arab Emirates \n",
      "Live updates from YaLLa Compass day 2 \n",
      "United Arab Emirates \n",
      "Complexity go 2-0 to 2-3 at YaLLa Compass in second consecutive group stage exit \n",
      "United Arab Emirates \n",
      "Eternal Fire crash out: \"We performed below our capacity when expectations from us \n",
      "increased\" \n",
      "United Arab Emirates \n",
      "Astralis through to YaLLa Compass playoffs \n",
      "United Arab Emirates \n",
      "NIP and The MongolZ secure YaLLa Compass playoff berths \n",
      "United Arab Emirates \n",
      "ENCE dodge early elimination as YaLLa Compass day one reaches end \n",
      "United Arab Emirates \n",
      "NIP show renewed form in LAN debut with isak \n",
      "United Arab Emirates \n",
      "Eternal Fire in trouble after 0-2 start to YaLLa Compass \n",
      "United Arab Emirates \n",
      "Sashi stun Astralis in Abu Dhabi \n",
      " \n",
      "Map Overview of the Arena \n",
      " \n",
      "#### Key Areas and Features: \n",
      " \n",
      "1. *Main Stage* (Top Center): \n",
      "   - Located at the top center of the arena. \n",
      "   - Designed for major events and performances. \n",
      "   - Surrounded by a large seating area to accommodate the audience. \n",
      " \n",
      "2. *Community Stage* (Bottom Center): \n",
      "   - Positioned towards the bottom center of the arena. \n",
      "   - Intended for smaller events and community activities. \n",
      "   - Has its own seating arrangement for attendees. \n",
      " \n",
      "3. *Seating Areas*: \n",
      "   - Two main seating sections are located in the center of the arena, in front of the Main \n",
      "Stage. \n",
      "   - Additional seating is present around the Community Stage and along the right side of the \n",
      "map. \n",
      " \n",
      "4. *Toilets*: \n",
      "   - There are two main toilet areas in the arena: \n",
      "     - One is located at the bottom left corner of the map. \n",
      "     - Another is on the right side of the map, ensuring convenient access from various parts \n",
      "of the arena. \n",
      " \n",
      "5. *Entrances/Exits* (Left Center): \n",
      "   - Main entrances and exits are located on the left side of the map. \n",
      "   - Marked with arrows indicating the flow of movement into and out of the arena. \n",
      " \n",
      "6. *Yellow Highlighted Areas* (Left Center): \n",
      "   - These could be information desks, security checkpoints, or ticket counters, strategically \n",
      "placed near the entrances/exits for accessibility. \n",
      " \n",
      "7. *Staircases or Elevators* (Center): \n",
      "   - Represented by icons of stairs, suggesting there are multiple levels or elevated sections \n",
      "in the arena. \n",
      " \n",
      "This map layout is designed to provide a clear and efficient flow of movement for \n",
      "attendees, ensuring easy access to main areas such as stages, seating, restrooms, and \n",
      "exits. \n",
      "\n"
     ]
    }
   ],
   "source": [
    "import fitz  # PyMuPDF\n",
    "\n",
    "local_path = \"compassguide.pdf\"\n",
    "\n",
    "def load_pdf(file_path):\n",
    "    # Open the PDF file\n",
    "    document = fitz.open(file_path)\n",
    "    \n",
    "    # Iterate through the pages and extract text\n",
    "    text = \"\"\n",
    "    for page_num in range(len(document)):\n",
    "        page = document.load_page(page_num)  # Load page\n",
    "        text += page.get_text()  # Extract text from page\n",
    "    \n",
    "    return text\n",
    "\n",
    "if local_path:\n",
    "    data = load_pdf(local_path)\n",
    "    print(data)  # or process the data as needed\n",
    "else:\n",
    "    print(\"Upload a PDF file\")\n"
   ]
  },
  {
   "cell_type": "code",
   "execution_count": 13,
   "id": "53fa59c4-f5d2-4851-9300-16177f76779b",
   "metadata": {},
   "outputs": [],
   "source": [
    "from langchain_community.embeddings import OllamaEmbeddings\n",
    "from langchain_text_splitters import RecursiveCharacterTextSplitter\n",
    "from langchain_community.vectorstores import Chroma"
   ]
  },
  {
   "cell_type": "code",
   "execution_count": 31,
   "id": "35611f43-7adf-4f73-869f-578511a7e8ac",
   "metadata": {},
   "outputs": [],
   "source": [
    "# # Split and chunk \n",
    "# text_splitter = RecursiveCharacterTextSplitter(chunk_size=7500, chunk_overlap=100)\n",
    "# chunks = text_splitter.split_documents(data)"
   ]
  },
  {
   "cell_type": "code",
   "execution_count": 15,
   "id": "eea0643c-172d-43b5-ace4-1847bcb4d9cd",
   "metadata": {},
   "outputs": [
    {
     "name": "stdout",
     "output_type": "stream",
     "text": [
      "The popularity of playing esports can vary by region, game, and specific events, but \n",
      "generally, certain trends can be observed: \n",
      " \n",
      "Summer Months (June - August): Many people, especially students, have more free time \n",
      "during the summer vacation period. This leads to increased participation in esports \n",
      "activities and higher viewer engagement. \n",
      " \n",
      "Winter Months (December - February): With winter holidays and more indoor activities, \n",
      "there is often a spike in esports participation. Major tournaments and events are also \n",
      "frequently held during this period. \n",
      " \n",
      "Major Tournament Seasons: The timing of major esports tournaments, such as The \n",
      "International for Dota 2, the League of Legends World Championship, and the Fortnite \n",
      "World Cup, can significantly influence when people play and watch esports. These events \n",
      "often draw in large audiences and inspire more gameplay activity around their dates. \n",
      " \n",
      "In summary, June to August and December to February are generally the peak months for \n",
      "esports activity, with additional spikes corresponding to the schedules of major esports \n",
      "tournaments. \n",
      " \n",
      "In the UAE, the trends for esports participation and viewership may also be influenced by \n",
      "the climate, cultural events, and school schedules. Here's a more tailored overview for the \n",
      "UAE: \n",
      " \n",
      "Winter Months (October - April): Given the extreme heat in the UAE during the summer, \n",
      "many people prefer indoor activities during the cooler months. This can lead to increased \n",
      "participation in esports from October to April when the weather is more comfortable for \n",
      "staying indoors and engaging in gaming activities. \n",
      " \n",
      "Ramadan: The month of Ramadan, which follows the Islamic lunar calendar and thus \n",
      "shifts each year, often sees a change in daily routines, with more free time in the evenings \n",
      "after breaking the fast. This can lead to increased gaming activity, including esports, during \n",
      "the nights of Ramadan. \n",
      " \n",
      "School Holidays: Similar to global trends, school holidays (summer vacation, winter break) \n",
      "can influence esports activity. Despite the intense summer heat, the summer vacation \n",
      "period still sees increased gaming activity as students have more free time. \n",
      " \n",
      "Major Esports Events and Local Tournaments: The timing of international esports \n",
      "tournaments and local events organized in the UAE, such as those held at gaming \n",
      "conventions or by local esports organizations, can also drive spikes in participation and \n",
      "viewership. \n",
      " \n",
      "In summary, October to April generally sees higher esports activity in the UAE due to \n",
      "favorable weather, with additional peaks during Ramadan and school holidays. Local and \n",
      "international esports events also play a significant role in influencing when people play and \n",
      "watch esports. \n",
      " \n",
      "CS \n",
      "Tournament Schedule \n",
      "Day 1: Group Stage and Quarterfinals \n",
      "Morning: \n",
      " \n",
      "8:00 AM - 9:00 AM: Registration and Team Briefing \n",
      "9:00 AM - 12:00 PM: Group Stage Matches (Group A) \n",
      "Match 1: Team A vs Team B \n",
      "Match 2: Team C vs Team D \n",
      "Afternoon: \n",
      " \n",
      "12:00 PM - 1:00 PM: Lunch Break \n",
      "1:00 PM - 4:00 PM: Group Stage Matches (Group B) \n",
      "Match 3: Team E vs Team F \n",
      "Match 4: Team G vs Team H \n",
      "Evening: \n",
      " \n",
      "4:00 PM - 7:00 PM: Quarterfinals \n",
      "Match 5: 1st Group A vs 2nd Group B \n",
      "Match 6: 1st Group B vs 2nd Group A \n",
      "7:00 PM - 8:00 PM: Dinner Break \n",
      "8:00 PM - 10:00 PM: Show Match / Special Event \n",
      "Day 2: Semifinals, Finals, and Closing Ceremony \n",
      "Morning: \n",
      " \n",
      "9:00 AM - 10:00 AM: Team Warm-up \n",
      "10:00 AM - 1:00 PM: Semifinals \n",
      "Match 7: Winner Match 5 vs Winner Match 6 \n",
      "Afternoon: \n",
      " \n",
      "1:00 PM - 2:00 PM: Lunch Break \n",
      "2:00 PM - 5:00 PM: Third Place Match \n",
      "Match 8: Loser Match 5 vs Loser Match 6 \n",
      "Evening: \n",
      " \n",
      "5:00 PM - 8:00 PM: Grand Finals (Best of 3) \n",
      "Match 9: Winner Match 7 vs Winner Match 8 \n",
      "8:00 PM - 9:00 PM: Award Ceremony and Closing Remarks \n",
      "9:00 PM onwards: Media Interviews and Fan Meet-and-Greet \n",
      " \n",
      "NEWS :  \n",
      " \n",
      "United Arab Emirates \n",
      "NIP beat fnatic to secure semi-final spot at YaLLa Compass \n",
      "United Arab Emirates \n",
      "Live updates from YaLLa Compass quarter-finals \n",
      "United Arab Emirates \n",
      "Astralis through to semi-finals at YaLLa Compass \n",
      "Sweden \n",
      "isak: \"NIP has been all I’ve been looking up to since I started playing the game\" \n",
      "Russia \n",
      "Magnojez: \"When S0tF1k said he saw big potential in me, it was a huge morale boost\" \n",
      "United Arab Emirates \n",
      "FURIA top Group B as YaLLa Compass moves to playoffs \n",
      "United Arab Emirates \n",
      "Live updates from YaLLa Compass day 2 \n",
      "United Arab Emirates \n",
      "Complexity go 2-0 to 2-3 at YaLLa Compass in second consecutive group stage exit \n",
      "United Arab Emirates \n",
      "Eternal Fire crash out: \"We performed below our capacity when expectations from us \n",
      "increased\" \n",
      "United Arab Emirates \n",
      "Astralis through to YaLLa Compass playoffs \n",
      "United Arab Emirates \n",
      "NIP and The MongolZ secure YaLLa Compass playoff berths \n",
      "United Arab Emirates \n",
      "ENCE dodge early elimination as YaLLa Compass day one reaches end \n",
      "United Arab Emirates \n",
      "NIP show renewed form in LAN debut with isak \n",
      "United Arab Emirates \n",
      "Eternal Fire in trouble after 0-2 start to YaLLa Compass \n",
      "United Arab Emirates \n",
      "Sashi stun Astralis in Abu Dhabi \n",
      " \n",
      "Map Overview of the Arena \n",
      " \n",
      "#### Key Areas and Features: \n",
      " \n",
      "1. *Main Stage* (Top Center): \n",
      "   - Located at the top center of the arena. \n",
      "   - Designed for major events and performances. \n",
      "   - Surrounded by a large seating area to accommodate the audience. \n",
      " \n",
      "2. *Community Stage* (Bottom Center): \n",
      "   - Positioned towards the bottom center of the arena. \n",
      "   - Intended for smaller events and community activities. \n",
      "   - Has its own seating arrangement for attendees. \n",
      " \n",
      "3. *Seating Areas*: \n",
      "   - Two main seating sections are located in the center of the arena, in front of the Main \n",
      "Stage. \n",
      "   - Additional seating is present around the Community Stage and along the right side of the \n",
      "map. \n",
      " \n",
      "4. *Toilets*: \n",
      "   - There are two main toilet areas in the arena: \n",
      "     - One is located at the bottom left corner of the map. \n",
      "     - Another is on the right side of the map, ensuring convenient access from various parts \n",
      "of the arena. \n",
      " \n",
      "5. *Entrances/Exits* (Left Center): \n",
      "   - Main entrances and exits are located on the left side of the map. \n",
      "   - Marked with arrows indicating the flow of movement into and out of the arena. \n",
      " \n",
      "6. *Yellow Highlighted Areas* (Left Center): \n",
      "   - These could be information desks, security checkpoints, or ticket counters, strategically \n",
      "placed near the entrances/exits for accessibility. \n",
      " \n",
      "7. *Staircases or Elevators* (Center): \n",
      "   - Represented by icons of stairs, suggesting there are multiple levels or elevated sections \n",
      "in the arena. \n",
      " \n",
      "This map layout is designed to provide a clear and efficient flow of movement for \n",
      "attendees, ensuring easy access to main areas such as stages, seating, restrooms, and \n",
      "exits.\n"
     ]
    }
   ],
   "source": [
    "import fitz  # PyMuPDF\n",
    "from langchain.text_splitter import RecursiveCharacterTextSplitter\n",
    "from langchain.schema import Document\n",
    "\n",
    "local_path = \"compassguide.pdf\"\n",
    "\n",
    "def load_pdf(file_path):\n",
    "    # Open the PDF file\n",
    "    document = fitz.open(file_path)\n",
    "    \n",
    "    # Iterate through the pages and extract text\n",
    "    text = \"\"\n",
    "    for page_num in range(len(document)):\n",
    "        page = document.load_page(page_num)  # Load page\n",
    "        text += page.get_text()  # Extract text from page\n",
    "    \n",
    "    return text\n",
    "\n",
    "if local_path:\n",
    "    raw_text = load_pdf(local_path)\n",
    "    \n",
    "    # Create a Document object\n",
    "    document = Document(page_content=raw_text)\n",
    "    \n",
    "    # Split and chunk\n",
    "    text_splitter = RecursiveCharacterTextSplitter(chunk_size=7500, chunk_overlap=100)\n",
    "    chunks = text_splitter.split_documents([document])\n",
    "    \n",
    "    # Display the chunks\n",
    "    for chunk in chunks:\n",
    "        print(chunk.page_content)\n",
    "else:\n",
    "    print(\"Upload a PDF file\")\n"
   ]
  },
  {
   "cell_type": "code",
   "execution_count": 17,
   "id": "214f804d-b7b5-4173-b896-220e18a5f9f8",
   "metadata": {},
   "outputs": [
    {
     "name": "stderr",
     "output_type": "stream",
     "text": [
      "OllamaEmbeddings: 100%|███████████████████████████| 1/1 [00:01<00:00,  1.09s/it]\n"
     ]
    }
   ],
   "source": [
    "# Add to vector database\n",
    "vector_db = Chroma.from_documents(\n",
    "    documents=chunks, \n",
    "    embedding=OllamaEmbeddings(model=\"nomic-embed-text\",show_progress=True),\n",
    "    collection_name=\"local-rag\"\n",
    ")"
   ]
  },
  {
   "cell_type": "code",
   "execution_count": 18,
   "id": "028a4a3f-f77f-44db-a871-cda2b3c2727b",
   "metadata": {},
   "outputs": [],
   "source": [
    "from langchain.prompts import ChatPromptTemplate, PromptTemplate\n",
    "from langchain_core.output_parsers import StrOutputParser\n",
    "from langchain_community.chat_models import ChatOllama\n",
    "from langchain_core.runnables import RunnablePassthrough\n",
    "from langchain.retrievers.multi_query import MultiQueryRetriever"
   ]
  },
  {
   "cell_type": "code",
   "execution_count": 19,
   "id": "367d77ba-0cb8-419b-aa2b-f21160e72417",
   "metadata": {},
   "outputs": [],
   "source": [
    "# LLM from Ollama\n",
    "local_model = \"llama3\"\n",
    "llm = ChatOllama(model=local_model)"
   ]
  },
  {
   "cell_type": "code",
   "execution_count": 20,
   "id": "c326abb8-5125-4954-9079-32f3043d97fa",
   "metadata": {},
   "outputs": [],
   "source": [
    "QUERY_PROMPT = PromptTemplate(\n",
    "    input_variables=[\"question\"],\n",
    "    template=\"\"\"You are an AI language model assistant. Your task is to generate five\n",
    "    different versions of the given user question to retrieve relevant documents from\n",
    "    a vector database. By generating multiple perspectives on the user question, your\n",
    "    goal is to help the user overcome some of the limitations of the distance-based\n",
    "    similarity search. Provide these alternative questions separated by newlines.\n",
    "    Original question: {question}\"\"\",\n",
    ")"
   ]
  },
  {
   "cell_type": "code",
   "execution_count": 21,
   "id": "d54e59d1-460c-489d-b46d-9b6aade1589e",
   "metadata": {},
   "outputs": [],
   "source": [
    "retriever = MultiQueryRetriever.from_llm(\n",
    "    vector_db.as_retriever(), \n",
    "    llm,\n",
    "    prompt=QUERY_PROMPT\n",
    ")\n",
    "\n",
    "# RAG prompt\n",
    "template = \"\"\"Answer the question based ONLY on the following context:\n",
    "{context}\n",
    "Question: {question}\n",
    "\"\"\"\n",
    "\n",
    "prompt = ChatPromptTemplate.from_template(template)"
   ]
  },
  {
   "cell_type": "code",
   "execution_count": 22,
   "id": "260d8143-72da-48f8-9c1c-74b918b23646",
   "metadata": {},
   "outputs": [],
   "source": [
    "chain = (\n",
    "    {\"context\": retriever, \"question\": RunnablePassthrough()}\n",
    "    | prompt\n",
    "    | llm\n",
    "    | StrOutputParser()\n",
    ")"
   ]
  },
  {
   "cell_type": "code",
   "execution_count": 23,
   "id": "22339862-a04b-4e24-9dc7-cae8e14b6f58",
   "metadata": {},
   "outputs": [
    {
     "name": "stdin",
     "output_type": "stream",
     "text": [
      "who are Judges of event? who are judges?\n"
     ]
    },
    {
     "name": "stderr",
     "output_type": "stream",
     "text": [
      "OllamaEmbeddings: 100%|███████████████████████████| 1/1 [00:00<00:00,  1.54it/s]\n",
      "Number of requested results 4 is greater than number of elements in index 1, updating n_results = 1\n",
      "OllamaEmbeddings: 100%|███████████████████████████| 1/1 [00:00<00:00, 86.43it/s]\n",
      "Number of requested results 4 is greater than number of elements in index 1, updating n_results = 1\n",
      "OllamaEmbeddings: 100%|███████████████████████████| 1/1 [00:00<00:00, 74.22it/s]\n",
      "Number of requested results 4 is greater than number of elements in index 1, updating n_results = 1\n",
      "OllamaEmbeddings: 100%|███████████████████████████| 1/1 [00:00<00:00, 93.10it/s]\n",
      "Number of requested results 4 is greater than number of elements in index 1, updating n_results = 1\n",
      "OllamaEmbeddings: 100%|███████████████████████████| 1/1 [00:00<00:00, 73.67it/s]\n",
      "Number of requested results 4 is greater than number of elements in index 1, updating n_results = 1\n",
      "OllamaEmbeddings: 100%|██████████████████████████| 1/1 [00:00<00:00, 103.73it/s]\n",
      "Number of requested results 4 is greater than number of elements in index 1, updating n_results = 1\n",
      "OllamaEmbeddings: 100%|███████████████████████████| 1/1 [00:00<00:00, 60.40it/s]\n",
      "Number of requested results 4 is greater than number of elements in index 1, updating n_results = 1\n",
      "OllamaEmbeddings: 100%|██████████████████████████| 1/1 [00:00<00:00, 127.60it/s]\n",
      "Number of requested results 4 is greater than number of elements in index 1, updating n_results = 1\n",
      "OllamaEmbeddings: 100%|███████████████████████████| 1/1 [00:00<00:00, 71.64it/s]\n",
      "Number of requested results 4 is greater than number of elements in index 1, updating n_results = 1\n",
      "OllamaEmbeddings: 100%|██████████████████████████| 1/1 [00:00<00:00, 113.12it/s]\n",
      "Number of requested results 4 is greater than number of elements in index 1, updating n_results = 1\n",
      "OllamaEmbeddings: 100%|███████████████████████████| 1/1 [00:00<00:00, 73.47it/s]\n",
      "Number of requested results 4 is greater than number of elements in index 1, updating n_results = 1\n"
     ]
    },
    {
     "data": {
      "text/plain": [
       "'There is no mention of judges in the given context. The context only talks about a YaLLa Compass event, teams like NIP, Astralis, and FURIA, and an arena map with different areas and features. There is no information about judges or any judging process.'"
      ]
     },
     "execution_count": 23,
     "metadata": {},
     "output_type": "execute_result"
    }
   ],
   "source": [
    "chain.invoke(input(\"Compass Guide\"))"
   ]
  },
  {
   "cell_type": "code",
   "execution_count": 24,
   "id": "f8f85389-e2e8-42fc-84a0-513f3b3eb814",
   "metadata": {},
   "outputs": [
    {
     "name": "stdin",
     "output_type": "stream",
     "text": [
      "Compass Guide Where is the parking and prayer room?\n"
     ]
    },
    {
     "name": "stderr",
     "output_type": "stream",
     "text": [
      "OllamaEmbeddings: 100%|███████████████████████████| 1/1 [00:00<00:00,  1.56it/s]\n",
      "Number of requested results 4 is greater than number of elements in index 1, updating n_results = 1\n",
      "OllamaEmbeddings: 100%|██████████████████████████| 1/1 [00:00<00:00, 103.86it/s]\n",
      "Number of requested results 4 is greater than number of elements in index 1, updating n_results = 1\n",
      "OllamaEmbeddings: 100%|███████████████████████████| 1/1 [00:00<00:00, 74.73it/s]\n",
      "Number of requested results 4 is greater than number of elements in index 1, updating n_results = 1\n",
      "OllamaEmbeddings: 100%|███████████████████████████| 1/1 [00:00<00:00, 71.98it/s]\n",
      "Number of requested results 4 is greater than number of elements in index 1, updating n_results = 1\n",
      "OllamaEmbeddings: 100%|███████████████████████████| 1/1 [00:00<00:00, 67.81it/s]\n",
      "Number of requested results 4 is greater than number of elements in index 1, updating n_results = 1\n",
      "OllamaEmbeddings: 100%|███████████████████████████| 1/1 [00:00<00:00, 72.80it/s]\n",
      "Number of requested results 4 is greater than number of elements in index 1, updating n_results = 1\n",
      "OllamaEmbeddings: 100%|███████████████████████████| 1/1 [00:00<00:00, 68.85it/s]\n",
      "Number of requested results 4 is greater than number of elements in index 1, updating n_results = 1\n",
      "OllamaEmbeddings: 100%|██████████████████████████| 1/1 [00:00<00:00, 100.61it/s]\n",
      "Number of requested results 4 is greater than number of elements in index 1, updating n_results = 1\n",
      "OllamaEmbeddings: 100%|███████████████████████████| 1/1 [00:00<00:00, 77.80it/s]\n",
      "Number of requested results 4 is greater than number of elements in index 1, updating n_results = 1\n"
     ]
    },
    {
     "data": {
      "text/plain": [
       "\"There is no information about the parking or prayer room in the provided context. The text only describes the page content of a document that appears to be related to an esports event, with details about the arena's layout, stages, seating areas, toilets, entrances/exits, and other features. There is no mention of parking or a prayer room.\""
      ]
     },
     "execution_count": 24,
     "metadata": {},
     "output_type": "execute_result"
    }
   ],
   "source": [
    "chain.invoke(input(\"Compass Guide\"))"
   ]
  },
  {
   "cell_type": "code",
   "execution_count": 25,
   "id": "ba39b30e-2a7b-4f1b-be31-c608f86658c1",
   "metadata": {},
   "outputs": [
    {
     "name": "stdin",
     "output_type": "stream",
     "text": [
      "Compass Guide where is the toilets?\n"
     ]
    },
    {
     "name": "stderr",
     "output_type": "stream",
     "text": [
      "OllamaEmbeddings: 100%|███████████████████████████| 1/1 [00:00<00:00,  1.38it/s]\n",
      "Number of requested results 4 is greater than number of elements in index 1, updating n_results = 1\n",
      "OllamaEmbeddings: 100%|███████████████████████████| 1/1 [00:00<00:00, 97.15it/s]\n",
      "Number of requested results 4 is greater than number of elements in index 1, updating n_results = 1\n",
      "OllamaEmbeddings: 100%|███████████████████████████| 1/1 [00:00<00:00, 70.50it/s]\n",
      "Number of requested results 4 is greater than number of elements in index 1, updating n_results = 1\n",
      "OllamaEmbeddings: 100%|██████████████████████████| 1/1 [00:00<00:00, 104.89it/s]\n",
      "Number of requested results 4 is greater than number of elements in index 1, updating n_results = 1\n",
      "OllamaEmbeddings: 100%|███████████████████████████| 1/1 [00:00<00:00, 81.20it/s]\n",
      "Number of requested results 4 is greater than number of elements in index 1, updating n_results = 1\n",
      "OllamaEmbeddings: 100%|██████████████████████████| 1/1 [00:00<00:00, 114.43it/s]\n",
      "Number of requested results 4 is greater than number of elements in index 1, updating n_results = 1\n",
      "OllamaEmbeddings: 100%|███████████████████████████| 1/1 [00:00<00:00, 91.69it/s]\n",
      "Number of requested results 4 is greater than number of elements in index 1, updating n_results = 1\n",
      "OllamaEmbeddings: 100%|██████████████████████████| 1/1 [00:00<00:00, 122.73it/s]\n",
      "Number of requested results 4 is greater than number of elements in index 1, updating n_results = 1\n",
      "OllamaEmbeddings: 100%|███████████████████████████| 1/1 [00:00<00:00, 82.29it/s]\n",
      "Number of requested results 4 is greater than number of elements in index 1, updating n_results = 1\n",
      "OllamaEmbeddings: 100%|██████████████████████████| 1/1 [00:00<00:00, 118.84it/s]\n",
      "Number of requested results 4 is greater than number of elements in index 1, updating n_results = 1\n",
      "OllamaEmbeddings: 100%|███████████████████████████| 1/1 [00:00<00:00, 91.02it/s]\n",
      "Number of requested results 4 is greater than number of elements in index 1, updating n_results = 1\n",
      "OllamaEmbeddings: 100%|██████████████████████████| 1/1 [00:00<00:00, 113.41it/s]\n",
      "Number of requested results 4 is greater than number of elements in index 1, updating n_results = 1\n",
      "OllamaEmbeddings: 100%|███████████████████████████| 1/1 [00:00<00:00, 54.36it/s]\n",
      "Number of requested results 4 is greater than number of elements in index 1, updating n_results = 1\n"
     ]
    },
    {
     "data": {
      "text/plain": [
       "'According to the provided context, the toilets are located at two main points in the arena:\\n\\n1. One toilet area is situated at the bottom left corner of the map.\\n2. Another toilet area can be found on the right side of the map, ensuring convenient access from various parts of the arena.'"
      ]
     },
     "execution_count": 25,
     "metadata": {},
     "output_type": "execute_result"
    }
   ],
   "source": [
    "chain.invoke(input(\"Compass Guide\"))"
   ]
  },
  {
   "cell_type": "code",
   "execution_count": 26,
   "id": "8cab7766-c647-4eab-a09e-defaacb5a2f8",
   "metadata": {},
   "outputs": [
    {
     "name": "stdin",
     "output_type": "stream",
     "text": [
      "Compass Guide where is the parking area?\n"
     ]
    },
    {
     "name": "stderr",
     "output_type": "stream",
     "text": [
      "OllamaEmbeddings: 100%|███████████████████████████| 1/1 [00:00<00:00,  1.51it/s]\n",
      "Number of requested results 4 is greater than number of elements in index 1, updating n_results = 1\n",
      "OllamaEmbeddings: 100%|███████████████████████████| 1/1 [00:00<00:00, 94.06it/s]\n",
      "Number of requested results 4 is greater than number of elements in index 1, updating n_results = 1\n",
      "OllamaEmbeddings: 100%|███████████████████████████| 1/1 [00:00<00:00, 84.75it/s]\n",
      "Number of requested results 4 is greater than number of elements in index 1, updating n_results = 1\n",
      "OllamaEmbeddings: 100%|███████████████████████████| 1/1 [00:00<00:00, 84.98it/s]\n",
      "Number of requested results 4 is greater than number of elements in index 1, updating n_results = 1\n",
      "OllamaEmbeddings: 100%|███████████████████████████| 1/1 [00:00<00:00, 75.45it/s]\n",
      "Number of requested results 4 is greater than number of elements in index 1, updating n_results = 1\n",
      "OllamaEmbeddings: 100%|███████████████████████████| 1/1 [00:00<00:00, 82.88it/s]\n",
      "Number of requested results 4 is greater than number of elements in index 1, updating n_results = 1\n",
      "OllamaEmbeddings: 100%|███████████████████████████| 1/1 [00:00<00:00, 91.63it/s]\n",
      "Number of requested results 4 is greater than number of elements in index 1, updating n_results = 1\n",
      "OllamaEmbeddings: 100%|██████████████████████████| 1/1 [00:00<00:00, 102.81it/s]\n",
      "Number of requested results 4 is greater than number of elements in index 1, updating n_results = 1\n",
      "OllamaEmbeddings: 100%|███████████████████████████| 1/1 [00:00<00:00, 64.25it/s]\n",
      "Number of requested results 4 is greater than number of elements in index 1, updating n_results = 1\n"
     ]
    },
    {
     "data": {
      "text/plain": [
       "'Based on the provided context, there is no information about a parking area. The map overview only highlights key areas and features within the arena, but does not mention parking facilities or locations.'"
      ]
     },
     "execution_count": 26,
     "metadata": {},
     "output_type": "execute_result"
    }
   ],
   "source": [
    "chain.invoke(input(\"Compass Guide\"))"
   ]
  },
  {
   "cell_type": "code",
   "execution_count": 27,
   "id": "f1ae01fe-8b4a-41d1-a4c7-9e3671c30ada",
   "metadata": {},
   "outputs": [
    {
     "name": "stdin",
     "output_type": "stream",
     "text": [
      "Compass Guide who won semi final?\n"
     ]
    },
    {
     "name": "stderr",
     "output_type": "stream",
     "text": [
      "OllamaEmbeddings: 100%|███████████████████████████| 1/1 [00:00<00:00,  1.51it/s]\n",
      "Number of requested results 4 is greater than number of elements in index 1, updating n_results = 1\n",
      "OllamaEmbeddings: 100%|██████████████████████████| 1/1 [00:00<00:00, 109.88it/s]\n",
      "Number of requested results 4 is greater than number of elements in index 1, updating n_results = 1\n",
      "OllamaEmbeddings: 100%|███████████████████████████| 1/1 [00:00<00:00, 72.50it/s]\n",
      "Number of requested results 4 is greater than number of elements in index 1, updating n_results = 1\n",
      "OllamaEmbeddings: 100%|██████████████████████████| 1/1 [00:00<00:00, 100.31it/s]\n",
      "Number of requested results 4 is greater than number of elements in index 1, updating n_results = 1\n",
      "OllamaEmbeddings: 100%|███████████████████████████| 1/1 [00:00<00:00, 70.82it/s]\n",
      "Number of requested results 4 is greater than number of elements in index 1, updating n_results = 1\n",
      "OllamaEmbeddings: 100%|██████████████████████████| 1/1 [00:00<00:00, 101.69it/s]\n",
      "Number of requested results 4 is greater than number of elements in index 1, updating n_results = 1\n",
      "OllamaEmbeddings: 100%|███████████████████████████| 1/1 [00:00<00:00, 59.75it/s]\n",
      "Number of requested results 4 is greater than number of elements in index 1, updating n_results = 1\n",
      "OllamaEmbeddings: 100%|██████████████████████████| 1/1 [00:00<00:00, 101.85it/s]\n",
      "Number of requested results 4 is greater than number of elements in index 1, updating n_results = 1\n",
      "OllamaEmbeddings: 100%|███████████████████████████| 1/1 [00:00<00:00, 52.83it/s]\n",
      "Number of requested results 4 is greater than number of elements in index 1, updating n_results = 1\n",
      "OllamaEmbeddings: 100%|███████████████████████████| 1/1 [00:00<00:00, 90.93it/s]\n",
      "Number of requested results 4 is greater than number of elements in index 1, updating n_results = 1\n",
      "OllamaEmbeddings: 100%|███████████████████████████| 1/1 [00:00<00:00, 71.50it/s]\n",
      "Number of requested results 4 is greater than number of elements in index 1, updating n_results = 1\n"
     ]
    },
    {
     "data": {
      "text/plain": [
       "'According to the context, NIP beat fnatic to secure a spot in the semi-finals at YaLLa Compass. Astralis also made it to the semi-finals. However, there is no information on who won the semi-final matches specifically. The context only mentions that Astralis and NIP both secured spots in the semi-finals.'"
      ]
     },
     "execution_count": 27,
     "metadata": {},
     "output_type": "execute_result"
    }
   ],
   "source": [
    "chain.invoke(input(\"Compass Guide\"))"
   ]
  },
  {
   "cell_type": "code",
   "execution_count": 28,
   "id": "a7ff5730-a351-4291-9435-c4613989b8b7",
   "metadata": {},
   "outputs": [
    {
     "name": "stdin",
     "output_type": "stream",
     "text": [
      "Compass Guide what is the Tournament Schedule\n"
     ]
    },
    {
     "name": "stderr",
     "output_type": "stream",
     "text": [
      "OllamaEmbeddings: 100%|███████████████████████████| 1/1 [00:00<00:00,  1.54it/s]\n",
      "Number of requested results 4 is greater than number of elements in index 1, updating n_results = 1\n",
      "OllamaEmbeddings: 100%|██████████████████████████| 1/1 [00:00<00:00, 128.36it/s]\n",
      "Number of requested results 4 is greater than number of elements in index 1, updating n_results = 1\n",
      "OllamaEmbeddings: 100%|███████████████████████████| 1/1 [00:00<00:00, 93.93it/s]\n",
      "Number of requested results 4 is greater than number of elements in index 1, updating n_results = 1\n",
      "OllamaEmbeddings: 100%|██████████████████████████| 1/1 [00:00<00:00, 122.52it/s]\n",
      "Number of requested results 4 is greater than number of elements in index 1, updating n_results = 1\n",
      "OllamaEmbeddings: 100%|███████████████████████████| 1/1 [00:00<00:00, 97.66it/s]\n",
      "Number of requested results 4 is greater than number of elements in index 1, updating n_results = 1\n",
      "OllamaEmbeddings: 100%|██████████████████████████| 1/1 [00:00<00:00, 128.60it/s]\n",
      "Number of requested results 4 is greater than number of elements in index 1, updating n_results = 1\n",
      "OllamaEmbeddings: 100%|███████████████████████████| 1/1 [00:00<00:00, 88.42it/s]\n",
      "Number of requested results 4 is greater than number of elements in index 1, updating n_results = 1\n",
      "OllamaEmbeddings: 100%|██████████████████████████| 1/1 [00:00<00:00, 135.08it/s]\n",
      "Number of requested results 4 is greater than number of elements in index 1, updating n_results = 1\n",
      "OllamaEmbeddings: 100%|███████████████████████████| 1/1 [00:00<00:00, 93.67it/s]\n",
      "Number of requested results 4 is greater than number of elements in index 1, updating n_results = 1\n",
      "OllamaEmbeddings: 100%|██████████████████████████| 1/1 [00:00<00:00, 128.29it/s]\n",
      "Number of requested results 4 is greater than number of elements in index 1, updating n_results = 1\n",
      "OllamaEmbeddings: 100%|██████████████████████████| 1/1 [00:00<00:00, 104.73it/s]\n",
      "Number of requested results 4 is greater than number of elements in index 1, updating n_results = 1\n"
     ]
    },
    {
     "data": {
      "text/plain": [
       "'According to the provided context, the Tournament Schedule is:\\n\\nDay 1:\\n* Quarter-finals: \\n\\t+ Match 7: NIP vs fnatic (NIP secured semi-final spot)\\n\\t+ Live updates from YaLLa Compass quarter-finals\\n* Grand Finals: Best of 3\\n\\nDay 2:\\n* Third Place Match: Loser Match 5 vs Loser Match 6 (Match 8)\\n* Grand Finals: Best of 3 (Match 9) - Winner Match 7 vs Winner Match 8\\n* Award Ceremony and Closing Remarks\\n* Media Interviews and Fan Meet-and-Greet'"
      ]
     },
     "execution_count": 28,
     "metadata": {},
     "output_type": "execute_result"
    }
   ],
   "source": [
    "chain.invoke(input(\"Compass Guide\"))"
   ]
  },
  {
   "cell_type": "code",
   "execution_count": 29,
   "id": "b93967dc-9bb5-4e8d-889d-baa44ae5227f",
   "metadata": {},
   "outputs": [
    {
     "name": "stdin",
     "output_type": "stream",
     "text": [
      "Compass Guide when is the best time to organize esports event in UAE?\n"
     ]
    },
    {
     "name": "stderr",
     "output_type": "stream",
     "text": [
      "OllamaEmbeddings: 100%|███████████████████████████| 1/1 [00:00<00:00,  1.54it/s]\n",
      "Number of requested results 4 is greater than number of elements in index 1, updating n_results = 1\n",
      "OllamaEmbeddings: 100%|██████████████████████████| 1/1 [00:00<00:00, 115.53it/s]\n",
      "Number of requested results 4 is greater than number of elements in index 1, updating n_results = 1\n",
      "OllamaEmbeddings: 100%|███████████████████████████| 1/1 [00:00<00:00, 81.95it/s]\n",
      "Number of requested results 4 is greater than number of elements in index 1, updating n_results = 1\n",
      "OllamaEmbeddings: 100%|██████████████████████████| 1/1 [00:00<00:00, 123.32it/s]\n",
      "Number of requested results 4 is greater than number of elements in index 1, updating n_results = 1\n",
      "OllamaEmbeddings: 100%|███████████████████████████| 1/1 [00:00<00:00, 84.85it/s]\n",
      "Number of requested results 4 is greater than number of elements in index 1, updating n_results = 1\n",
      "OllamaEmbeddings: 100%|██████████████████████████| 1/1 [00:00<00:00, 135.74it/s]\n",
      "Number of requested results 4 is greater than number of elements in index 1, updating n_results = 1\n",
      "OllamaEmbeddings: 100%|███████████████████████████| 1/1 [00:00<00:00, 96.00it/s]\n",
      "Number of requested results 4 is greater than number of elements in index 1, updating n_results = 1\n",
      "OllamaEmbeddings: 100%|██████████████████████████| 1/1 [00:00<00:00, 145.28it/s]\n",
      "Number of requested results 4 is greater than number of elements in index 1, updating n_results = 1\n",
      "OllamaEmbeddings: 100%|███████████████████████████| 1/1 [00:00<00:00, 99.96it/s]\n",
      "Number of requested results 4 is greater than number of elements in index 1, updating n_results = 1\n",
      "OllamaEmbeddings: 100%|██████████████████████████| 1/1 [00:00<00:00, 128.88it/s]\n",
      "Number of requested results 4 is greater than number of elements in index 1, updating n_results = 1\n",
      "OllamaEmbeddings: 100%|███████████████████████████| 1/1 [00:00<00:00, 84.04it/s]\n",
      "Number of requested results 4 is greater than number of elements in index 1, updating n_results = 1\n",
      "OllamaEmbeddings: 100%|██████████████████████████| 1/1 [00:00<00:00, 122.21it/s]\n",
      "Number of requested results 4 is greater than number of elements in index 1, updating n_results = 1\n",
      "OllamaEmbeddings: 100%|███████████████████████████| 1/1 [00:00<00:00, 80.01it/s]\n",
      "Number of requested results 4 is greater than number of elements in index 1, updating n_results = 1\n"
     ]
    },
    {
     "data": {
      "text/plain": [
       "'According to the provided context, the best time to organize an esports event in UAE would be during the summer months (June to September) or winter months (December to February), which are considered off-peak seasons for tourism. This allows for more favorable weather conditions and lower accommodation costs.\\n\\nAdditionally, it is recommended to avoid organizing events during Ramadan (Islamic holy month of fasting) as this period typically sees a decrease in attendance due to the fast.'"
      ]
     },
     "execution_count": 29,
     "metadata": {},
     "output_type": "execute_result"
    }
   ],
   "source": [
    "chain.invoke(input(\"Compass Guide\"))"
   ]
  },
  {
   "cell_type": "code",
   "execution_count": 30,
   "id": "c18f91ef-28d6-4967-bf1c-56af78aa9fe7",
   "metadata": {},
   "outputs": [
    {
     "name": "stdin",
     "output_type": "stream",
     "text": [
      "Compass Guide when not to organize event in UAE?\n"
     ]
    },
    {
     "name": "stderr",
     "output_type": "stream",
     "text": [
      "OllamaEmbeddings: 100%|███████████████████████████| 1/1 [00:00<00:00,  1.41it/s]\n",
      "Number of requested results 4 is greater than number of elements in index 1, updating n_results = 1\n",
      "OllamaEmbeddings: 100%|███████████████████████████| 1/1 [00:00<00:00, 85.65it/s]\n",
      "Number of requested results 4 is greater than number of elements in index 1, updating n_results = 1\n",
      "OllamaEmbeddings: 100%|███████████████████████████| 1/1 [00:00<00:00, 71.44it/s]\n",
      "Number of requested results 4 is greater than number of elements in index 1, updating n_results = 1\n",
      "OllamaEmbeddings: 100%|███████████████████████████| 1/1 [00:00<00:00, 94.90it/s]\n",
      "Number of requested results 4 is greater than number of elements in index 1, updating n_results = 1\n",
      "OllamaEmbeddings: 100%|███████████████████████████| 1/1 [00:00<00:00, 62.35it/s]\n",
      "Number of requested results 4 is greater than number of elements in index 1, updating n_results = 1\n",
      "OllamaEmbeddings: 100%|██████████████████████████| 1/1 [00:00<00:00, 105.06it/s]\n",
      "Number of requested results 4 is greater than number of elements in index 1, updating n_results = 1\n",
      "OllamaEmbeddings: 100%|███████████████████████████| 1/1 [00:00<00:00, 59.98it/s]\n",
      "Number of requested results 4 is greater than number of elements in index 1, updating n_results = 1\n",
      "OllamaEmbeddings: 100%|███████████████████████████| 1/1 [00:00<00:00, 97.88it/s]\n",
      "Number of requested results 4 is greater than number of elements in index 1, updating n_results = 1\n",
      "OllamaEmbeddings: 100%|███████████████████████████| 1/1 [00:00<00:00, 54.08it/s]\n",
      "Number of requested results 4 is greater than number of elements in index 1, updating n_results = 1\n",
      "OllamaEmbeddings: 100%|██████████████████████████| 1/1 [00:00<00:00, 101.97it/s]\n",
      "Number of requested results 4 is greater than number of elements in index 1, updating n_results = 1\n",
      "OllamaEmbeddings: 100%|███████████████████████████| 1/1 [00:00<00:00, 71.02it/s]\n",
      "Number of requested results 4 is greater than number of elements in index 1, updating n_results = 1\n"
     ]
    },
    {
     "data": {
      "text/plain": [
       "'Based on the provided context, it seems that summer months (June-August) are not ideal for organizing events in the United Arab Emirates (UAE). The hot desert climate during this time can be challenging for attendees and participants.\\n\\nThe text does not explicitly state when not to organize an event in UAE. However, considering the environmental factors, it is likely that extreme heat would be a significant concern.\\n\\nIt might be more suitable to organize events during cooler months, such as September-May, when the temperature is more manageable (average highs range from 22°C to 32°C or 72°F to 90°F).'"
      ]
     },
     "execution_count": 30,
     "metadata": {},
     "output_type": "execute_result"
    }
   ],
   "source": [
    "chain.invoke(input(\"Compass Guide\"))"
   ]
  },
  {
   "cell_type": "code",
   "execution_count": null,
   "id": "f368a9ae-7eaf-410b-b5ab-1369114337f4",
   "metadata": {},
   "outputs": [],
   "source": []
  }
 ],
 "metadata": {
  "kernelspec": {
   "display_name": "Python 3 (ipykernel)",
   "language": "python",
   "name": "python3"
  },
  "language_info": {
   "codemirror_mode": {
    "name": "ipython",
    "version": 3
   },
   "file_extension": ".py",
   "mimetype": "text/x-python",
   "name": "python",
   "nbconvert_exporter": "python",
   "pygments_lexer": "ipython3",
   "version": "3.11.7"
  }
 },
 "nbformat": 4,
 "nbformat_minor": 5
}
